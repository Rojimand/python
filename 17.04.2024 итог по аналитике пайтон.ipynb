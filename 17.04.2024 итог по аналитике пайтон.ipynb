{
 "cells": [
  {
   "cell_type": "markdown",
   "id": "32fa1d7e",
   "metadata": {},
   "source": [
    "# 1 \n",
    "загрузите файл HR.csv в pandas dataframe"
   ]
  },
  {
   "cell_type": "code",
   "execution_count": 138,
   "id": "e8114321",
   "metadata": {},
   "outputs": [
    {
     "data": {
      "text/html": [
       "<div>\n",
       "<style scoped>\n",
       "    .dataframe tbody tr th:only-of-type {\n",
       "        vertical-align: middle;\n",
       "    }\n",
       "\n",
       "    .dataframe tbody tr th {\n",
       "        vertical-align: top;\n",
       "    }\n",
       "\n",
       "    .dataframe thead th {\n",
       "        text-align: right;\n",
       "    }\n",
       "</style>\n",
       "<table border=\"1\" class=\"dataframe\">\n",
       "  <thead>\n",
       "    <tr style=\"text-align: right;\">\n",
       "      <th></th>\n",
       "      <th>satisfaction_level</th>\n",
       "      <th>last_evaluation</th>\n",
       "      <th>number_project</th>\n",
       "      <th>average_montly_hours</th>\n",
       "      <th>time_spend_company</th>\n",
       "      <th>Work_accident</th>\n",
       "      <th>left</th>\n",
       "      <th>promotion_last_5years</th>\n",
       "      <th>department</th>\n",
       "      <th>salary</th>\n",
       "    </tr>\n",
       "  </thead>\n",
       "  <tbody>\n",
       "    <tr>\n",
       "      <th>0</th>\n",
       "      <td>0.38</td>\n",
       "      <td>0.53</td>\n",
       "      <td>2</td>\n",
       "      <td>157</td>\n",
       "      <td>3</td>\n",
       "      <td>0</td>\n",
       "      <td>1</td>\n",
       "      <td>0</td>\n",
       "      <td>sales</td>\n",
       "      <td>low</td>\n",
       "    </tr>\n",
       "    <tr>\n",
       "      <th>1</th>\n",
       "      <td>0.80</td>\n",
       "      <td>0.86</td>\n",
       "      <td>5</td>\n",
       "      <td>262</td>\n",
       "      <td>6</td>\n",
       "      <td>0</td>\n",
       "      <td>1</td>\n",
       "      <td>0</td>\n",
       "      <td>sales</td>\n",
       "      <td>medium</td>\n",
       "    </tr>\n",
       "    <tr>\n",
       "      <th>2</th>\n",
       "      <td>0.11</td>\n",
       "      <td>0.88</td>\n",
       "      <td>7</td>\n",
       "      <td>272</td>\n",
       "      <td>4</td>\n",
       "      <td>0</td>\n",
       "      <td>1</td>\n",
       "      <td>0</td>\n",
       "      <td>sales</td>\n",
       "      <td>medium</td>\n",
       "    </tr>\n",
       "    <tr>\n",
       "      <th>3</th>\n",
       "      <td>0.72</td>\n",
       "      <td>0.87</td>\n",
       "      <td>5</td>\n",
       "      <td>223</td>\n",
       "      <td>5</td>\n",
       "      <td>0</td>\n",
       "      <td>1</td>\n",
       "      <td>0</td>\n",
       "      <td>sales</td>\n",
       "      <td>low</td>\n",
       "    </tr>\n",
       "    <tr>\n",
       "      <th>4</th>\n",
       "      <td>0.37</td>\n",
       "      <td>0.52</td>\n",
       "      <td>2</td>\n",
       "      <td>159</td>\n",
       "      <td>3</td>\n",
       "      <td>0</td>\n",
       "      <td>1</td>\n",
       "      <td>0</td>\n",
       "      <td>sales</td>\n",
       "      <td>low</td>\n",
       "    </tr>\n",
       "  </tbody>\n",
       "</table>\n",
       "</div>"
      ],
      "text/plain": [
       "   satisfaction_level  last_evaluation  number_project  average_montly_hours  \\\n",
       "0                0.38             0.53               2                   157   \n",
       "1                0.80             0.86               5                   262   \n",
       "2                0.11             0.88               7                   272   \n",
       "3                0.72             0.87               5                   223   \n",
       "4                0.37             0.52               2                   159   \n",
       "\n",
       "   time_spend_company  Work_accident  left  promotion_last_5years department  \\\n",
       "0                   3              0     1                      0      sales   \n",
       "1                   6              0     1                      0      sales   \n",
       "2                   4              0     1                      0      sales   \n",
       "3                   5              0     1                      0      sales   \n",
       "4                   3              0     1                      0      sales   \n",
       "\n",
       "   salary  \n",
       "0     low  \n",
       "1  medium  \n",
       "2  medium  \n",
       "3     low  \n",
       "4     low  "
      ]
     },
     "execution_count": 138,
     "metadata": {},
     "output_type": "execute_result"
    }
   ],
   "source": [
    "import pandas as pd\n",
    "df = pd.read_csv('HR.csv')\n",
    "df.head()"
   ]
  },
  {
   "cell_type": "markdown",
   "id": "54a261f5",
   "metadata": {},
   "source": [
    "# 2 \n",
    "Рассчитайте основные статистики для переменных\n",
    "(среднее,медиана,мода,мин/макс,сред.отклонение)"
   ]
  },
  {
   "cell_type": "code",
   "execution_count": 49,
   "id": "1353b1a8",
   "metadata": {},
   "outputs": [
    {
     "name": "stdout",
     "output_type": "stream",
     "text": [
      "Среднее:\n",
      "satisfaction_level        0.612834\n",
      "last_evaluation           0.716102\n",
      "average_montly_hours    201.050337\n",
      "time_spend_company        3.498233\n",
      "number_project            3.803054\n",
      "dtype: float64\n",
      "\n",
      "Медиана:\n",
      "satisfaction_level        0.64\n",
      "last_evaluation           0.72\n",
      "average_montly_hours    200.00\n",
      "time_spend_company        3.00\n",
      "number_project            4.00\n",
      "dtype: float64\n",
      "\n",
      "Мода:\n",
      "satisfaction_level        0.10\n",
      "last_evaluation           0.55\n",
      "average_montly_hours    135.00\n",
      "time_spend_company        3.00\n",
      "number_project            4.00\n",
      "Name: 0, dtype: float64\n",
      "\n",
      "Минимум:\n",
      "satisfaction_level       0.09\n",
      "last_evaluation          0.36\n",
      "average_montly_hours    96.00\n",
      "time_spend_company       2.00\n",
      "number_project           2.00\n",
      "dtype: float64\n",
      "\n",
      "Максимум:\n",
      "satisfaction_level        1.0\n",
      "last_evaluation           1.0\n",
      "average_montly_hours    310.0\n",
      "time_spend_company       10.0\n",
      "number_project            7.0\n",
      "dtype: float64\n",
      "\n",
      "Стандартное отклонение:\n",
      "satisfaction_level       0.248631\n",
      "last_evaluation          0.171169\n",
      "average_montly_hours    49.943099\n",
      "time_spend_company       1.460136\n",
      "number_project           1.232592\n",
      "dtype: float64\n"
     ]
    }
   ],
   "source": [
    "import pandas as pd\n",
    "\n",
    "df_avg = df\n",
    "\n",
    "# Рассчитываем среднее\n",
    "mean = df_avg[['satisfaction_level', 'last_evaluation', 'average_montly_hours', 'time_spend_company', 'number_project']].mean()\n",
    "\n",
    "# Рассчитываем медиану\n",
    "median = df_avg[['satisfaction_level', 'last_evaluation', 'average_montly_hours', 'time_spend_company', 'number_project']].median()\n",
    "\n",
    "# Рассчитываем моду\n",
    "mode = df_avg[['satisfaction_level', 'last_evaluation', 'average_montly_hours', 'time_spend_company', 'number_project']].mode().iloc[0]\n",
    "\n",
    "# Рассчитываем минимум\n",
    "minimum = df_avg[['satisfaction_level', 'last_evaluation', 'average_montly_hours', 'time_spend_company', 'number_project']].min()\n",
    "\n",
    "# Рассчитываем максимум\n",
    "maximum = df_avg[['satisfaction_level', 'last_evaluation', 'average_montly_hours', 'time_spend_company', 'number_project']].max()\n",
    "\n",
    "# Рассчитываем стандартное отклонение\n",
    "std_dev = df_avg[['satisfaction_level', 'last_evaluation', 'average_montly_hours', 'time_spend_company', 'number_project']].std()\n",
    "\n",
    "# Выводим результаты\n",
    "print(\"Среднее:\")\n",
    "print(mean)\n",
    "print(\"\\nМедиана:\")\n",
    "print(median)\n",
    "print(\"\\nМода:\")\n",
    "print(mode)\n",
    "print(\"\\nМинимум:\")\n",
    "print(minimum)\n",
    "print(\"\\nМаксимум:\")\n",
    "print(maximum)\n",
    "print(\"\\nСтандартное отклонение:\")\n",
    "print(std_dev)"
   ]
  },
  {
   "cell_type": "markdown",
   "id": "94f71d19",
   "metadata": {},
   "source": [
    "# 3 \n",
    "Рассчитайте и визуализировать корреляционную матрицу для\n",
    "количественных переменных.\n",
    "Определите две самые скоррелированные и две наименее\n",
    "скоррелированные переменные."
   ]
  },
  {
   "cell_type": "code",
   "execution_count": 73,
   "id": "634dbb9c",
   "metadata": {},
   "outputs": [
    {
     "data": {
      "image/png": "[encoded data removed]",
      "text/plain": [
       "<Figure size 1000x800 with 2 Axes>"
      ]
     },
     "metadata": {},
     "output_type": "display_data"
    },
    {
     "name": "stdout",
     "output_type": "stream",
     "text": [
      "Cамые скоррелированные переменные:\n",
      "number_project  average_montly_hours    0.417211\n",
      "dtype: float64\n",
      "\n",
      "Наименее скоррелированные переменные:\n",
      "number_project  satisfaction_level   -0.14297\n",
      "dtype: float64\n"
     ]
    },
    {
     "data": {
      "text/html": [
       "<div>\n",
       "<style scoped>\n",
       "    .dataframe tbody tr th:only-of-type {\n",
       "        vertical-align: middle;\n",
       "    }\n",
       "\n",
       "    .dataframe tbody tr th {\n",
       "        vertical-align: top;\n",
       "    }\n",
       "\n",
       "    .dataframe thead th {\n",
       "        text-align: right;\n",
       "    }\n",
       "</style>\n",
       "<table border=\"1\" class=\"dataframe\">\n",
       "  <thead>\n",
       "    <tr style=\"text-align: right;\">\n",
       "      <th></th>\n",
       "      <th>satisfaction_level</th>\n",
       "      <th>last_evaluation</th>\n",
       "      <th>average_montly_hours</th>\n",
       "      <th>time_spend_company</th>\n",
       "      <th>number_project</th>\n",
       "    </tr>\n",
       "  </thead>\n",
       "  <tbody>\n",
       "    <tr>\n",
       "      <th>satisfaction_level</th>\n",
       "      <td>1.000000</td>\n",
       "      <td>0.105021</td>\n",
       "      <td>-0.020048</td>\n",
       "      <td>-0.100866</td>\n",
       "      <td>-0.142970</td>\n",
       "    </tr>\n",
       "    <tr>\n",
       "      <th>last_evaluation</th>\n",
       "      <td>0.105021</td>\n",
       "      <td>1.000000</td>\n",
       "      <td>0.339742</td>\n",
       "      <td>0.131591</td>\n",
       "      <td>0.349333</td>\n",
       "    </tr>\n",
       "    <tr>\n",
       "      <th>average_montly_hours</th>\n",
       "      <td>-0.020048</td>\n",
       "      <td>0.339742</td>\n",
       "      <td>1.000000</td>\n",
       "      <td>0.127755</td>\n",
       "      <td>0.417211</td>\n",
       "    </tr>\n",
       "    <tr>\n",
       "      <th>time_spend_company</th>\n",
       "      <td>-0.100866</td>\n",
       "      <td>0.131591</td>\n",
       "      <td>0.127755</td>\n",
       "      <td>1.000000</td>\n",
       "      <td>0.196786</td>\n",
       "    </tr>\n",
       "    <tr>\n",
       "      <th>number_project</th>\n",
       "      <td>-0.142970</td>\n",
       "      <td>0.349333</td>\n",
       "      <td>0.417211</td>\n",
       "      <td>0.196786</td>\n",
       "      <td>1.000000</td>\n",
       "    </tr>\n",
       "  </tbody>\n",
       "</table>\n",
       "</div>"
      ],
      "text/plain": [
       "                      satisfaction_level  last_evaluation  \\\n",
       "satisfaction_level              1.000000         0.105021   \n",
       "last_evaluation                 0.105021         1.000000   \n",
       "average_montly_hours           -0.020048         0.339742   \n",
       "time_spend_company             -0.100866         0.131591   \n",
       "number_project                 -0.142970         0.349333   \n",
       "\n",
       "                      average_montly_hours  time_spend_company  number_project  \n",
       "satisfaction_level               -0.020048           -0.100866       -0.142970  \n",
       "last_evaluation                   0.339742            0.131591        0.349333  \n",
       "average_montly_hours              1.000000            0.127755        0.417211  \n",
       "time_spend_company                0.127755            1.000000        0.196786  \n",
       "number_project                    0.417211            0.196786        1.000000  "
      ]
     },
     "execution_count": 73,
     "metadata": {},
     "output_type": "execute_result"
    }
   ],
   "source": [
    "import seaborn as sns\n",
    "import matplotlib.pyplot as plt\n",
    "\n",
    "# матрица значений корреляции\n",
    "corr_matrix = df[['satisfaction_level', 'last_evaluation', 'average_montly_hours', 'time_spend_company', 'number_project']].corr()\n",
    "\n",
    "# визуализация \n",
    "plt.figure(figsize=(10, 8))\n",
    "sns.heatmap(corr_matrix, annot=True, cmap='coolwarm')\n",
    "plt.title('Корреляционная матрица')\n",
    "plt.show()\n",
    "\n",
    "\n",
    "\n",
    "# Определение двух самых скоррелированных переменных\n",
    "max_corr = corr_matrix.unstack().sort_values(ascending=False)\n",
    "most_correlated = max_corr[max_corr < 1].head(1)\n",
    "print('Cамые скоррелированные переменные:')\n",
    "print(most_correlated)\n",
    "\n",
    "# Определение двух наименее скоррелированных переменных\n",
    "min_corr = corr_matrix.unstack().sort_values()\n",
    "least_correlated = min_corr.head(1)\n",
    "print('\\nНаименее скоррелированные переменные:')\n",
    "print(least_correlated)\n",
    "corr_matrix.head(10)\n"
   ]
  },
  {
   "cell_type": "markdown",
   "id": "84e951f1",
   "metadata": {},
   "source": [
    "# 4\n",
    "Рассчитайте сколько сотрудников работает в каждом\n",
    "департаменте"
   ]
  },
  {
   "cell_type": "code",
   "execution_count": 134,
   "id": "14312b12",
   "metadata": {},
   "outputs": [
    {
     "name": "stdout",
     "output_type": "stream",
     "text": [
      "Количество сотрудников в каждом департаменте:\n",
      "department\n",
      "sales          3126\n",
      "technical      2023\n",
      "support        1674\n",
      "IT              954\n",
      "product_mng     704\n",
      "RandD           666\n",
      "marketing       655\n",
      "accounting      563\n",
      "management      539\n",
      "hr              524\n",
      "Name: count, dtype: int64\n"
     ]
    }
   ],
   "source": [
    "df_left = df.loc[df['left'] == 0]\n",
    "df_dep = df_left['department'].value_counts()\n",
    "print(f'Количество сотрудников в каждом департаменте:\\n{df_dep}')"
   ]
  },
  {
   "cell_type": "markdown",
   "id": "cb40d6eb",
   "metadata": {},
   "source": [
    "# 5 \n",
    "Показать распределение сотрудников по зарплатам."
   ]
  },
  {
   "cell_type": "code",
   "execution_count": 135,
   "id": "0e85e8da",
   "metadata": {},
   "outputs": [
    {
     "name": "stdout",
     "output_type": "stream",
     "text": [
      "Распределение сотрудников по зарплатам:\n",
      "salary\n",
      "low       7316\n",
      "medium    6446\n",
      "high      1237\n",
      "Name: count, dtype: int64\n"
     ]
    }
   ],
   "source": [
    "salary_distribution = df['salary'].value_counts()\n",
    "print(f'Распределение сотрудников по зарплатам:\\n{salary_distribution}')"
   ]
  },
  {
   "cell_type": "markdown",
   "id": "fafaee5d",
   "metadata": {},
   "source": [
    "# 6 \n",
    "Показать распределение сотрудников по зарплатам в каждом\n",
    "департаменте по отдельности"
   ]
  },
  {
   "cell_type": "code",
   "execution_count": 136,
   "id": "e05e1fea",
   "metadata": {},
   "outputs": [
    {
     "name": "stdout",
     "output_type": "stream",
     "text": [
      "Распределение сотрудников по зарплатам в каждом департаменте:\n",
      "department   salary\n",
      "IT           low        609\n",
      "             medium     535\n",
      "             high        83\n",
      "RandD        medium     372\n",
      "             low        364\n",
      "             high        51\n",
      "accounting   low        358\n",
      "             medium     335\n",
      "             high        74\n",
      "hr           medium     359\n",
      "             low        335\n",
      "             high        45\n",
      "management   medium     225\n",
      "             high       225\n",
      "             low        180\n",
      "marketing    low        402\n",
      "             medium     376\n",
      "             high        80\n",
      "product_mng  low        451\n",
      "             medium     383\n",
      "             high        68\n",
      "sales        low       2099\n",
      "             medium    1772\n",
      "             high       269\n",
      "support      low       1146\n",
      "             medium     942\n",
      "             high       141\n",
      "technical    low       1372\n",
      "             medium    1147\n",
      "             high       201\n",
      "Name: count, dtype: int64\n"
     ]
    }
   ],
   "source": [
    "salary_dep = df.groupby('department')['salary'].value_counts()\n",
    "print(f'Распределение сотрудников по зарплатам в каждом департаменте:\\n{salary_dep}')"
   ]
  },
  {
   "cell_type": "markdown",
   "id": "68120bef",
   "metadata": {},
   "source": [
    "# 7\n",
    "Проверить гипотезу, что сотрудники с высоким окладом\n",
    "проводят на работе больше времени, чем сотрудники с низким\n",
    "окладом"
   ]
  },
  {
   "cell_type": "code",
   "execution_count": 99,
   "id": "613c882d",
   "metadata": {},
   "outputs": [
    {
     "name": "stdout",
     "output_type": "stream",
     "text": [
      "Статистически незначимая разница: нет подтверждения гипотезы\n"
     ]
    }
   ],
   "source": [
    "import pandas as pd\n",
    "from scipy import stats\n",
    "\n",
    "high_sal = df[df['salary'] == 'high']['average_montly_hours']\n",
    "low_sal = df[df['salary'] == 'low']['average_montly_hours']\n",
    "\n",
    "# Проведение t-теста\n",
    "t_stat, p_value = stats.ttest_ind(high_sal, low_sal)\n",
    "\n",
    "if p_value < 0.05:\n",
    "    print(\"Статистически значимая разница: сотрудники с высоким окладом проводят на работе больше времени\")\n",
    "else:\n",
    "    print(\"Статистически незначимая разница: нет подтверждения гипотезы\")"
   ]
  },
  {
   "cell_type": "markdown",
   "id": "fee497a1",
   "metadata": {},
   "source": [
    "# 8\n",
    "Рассчитать следующие показатели среди уволившихся и не\n",
    "уволившихся сотрудников (по отдельности):\n",
    "\n",
    "    ● Доля сотрудников с повышением за последние 5 лет\n",
    "    ● Средняя степень удовлетворенности\n",
    "    ● Среднее количество проектов"
   ]
  },
  {
   "cell_type": "code",
   "execution_count": 130,
   "id": "a80a08e3",
   "metadata": {},
   "outputs": [
    {
     "name": "stdout",
     "output_type": "stream",
     "text": [
      "Доля сотрудников с повышением за последние 5 лет среди уволенных 0.53%\n",
      "Средняя степень удовлетворенности среди уволенных 0.44\n",
      "Среднее количество проектов среди уволенных 3.86\n",
      "\n",
      "Доля сотрудников с повышением за последние 5 лет среди не уволенных 8.4%\n",
      "Средняя степень удовлетворенности среди не уволенных 0.67\n",
      "Среднее количество проектов среди не уволенных 3.79\n"
     ]
    }
   ],
   "source": [
    "# создаем ДФ по уволенным и нет\n",
    "uvol = df[df['left'] == 1]\n",
    "ne_uvol = df[df['left'] == 0]\n",
    "\n",
    "# считаем показатели\n",
    "d_u_5let = round((uvol[uvol['promotion_last_5years'] == 1].count() / uvol.count() * 100).iloc[0], 2)\n",
    "stu_u = round((uvol['satisfaction_level'].mean()), 2)\n",
    "avg_u_project = round((uvol['number_project'].mean()), 2)\n",
    "\n",
    "d_5let = round((ne_uvol[ne_uvol['promotion_last_5years'] == 1].count() / uvol.count() * 100).iloc[0], 2)\n",
    "stu = round((ne_uvol['satisfaction_level'].mean()), 2)\n",
    "avg_project = round((ne_uvol['number_project'].mean()), 2)\n",
    "\n",
    "\n",
    "print (f'Доля сотрудников с повышением за последние 5 лет среди уволенных {d_u_5let}%')\n",
    "print (f'Средняя степень удовлетворенности среди уволенных {stu_u}')\n",
    "print (f'Среднее количество проектов среди уволенных {avg_u_project}')\n",
    "\n",
    "print (f'\\nДоля сотрудников с повышением за последние 5 лет среди не уволенных {d_5let}%')\n",
    "print (f'Средняя степень удовлетворенности среди не уволенных {stu}')\n",
    "print (f'Среднее количество проектов среди не уволенных {avg_project}')"
   ]
  },
  {
   "cell_type": "markdown",
   "id": "83125bee",
   "metadata": {},
   "source": [
    "# 9\n",
    "Разделить данные на тестовую и обучающую выборки\n",
    "Построить модель LDA, предсказывающую уволился ли\n",
    "сотрудник на основе имеющихся факторов (кроме department и\n",
    "salary)\n",
    "Оценить качество модели на тестовой выборки"
   ]
  },
  {
   "cell_type": "code",
   "execution_count": 147,
   "id": "e60961c1",
   "metadata": {},
   "outputs": [
    {
     "name": "stdout",
     "output_type": "stream",
     "text": [
      "Accuracy на тестовой выборке: 0.761\n"
     ]
    }
   ],
   "source": [
    "import pandas as pd\n",
    "from sklearn.model_selection import train_test_split\n",
    "\n",
    "df_0 = pd.read_csv('HR.csv')\n",
    "\n",
    "df_1 = df_0[['satisfaction_level', 'last_evaluation', 'number_project', 'average_montly_hours', 'time_spend_company', 'Work_accident', 'left', 'promotion_last_5years']]\n",
    "\n",
    "# Выделение признаков и целевой переменной\n",
    "X = df_1[['satisfaction_level', 'last_evaluation', 'number_project', 'average_montly_hours', 'time_spend_company', 'Work_accident', 'promotion_last_5years']]\n",
    "y = df_1['left']\n",
    "\n",
    "# Разделение данных на обучающую и тестовую выборки (например, 80% обучающей выборки и 20% тестовой выборки)\n",
    "X_train, X_test, y_train, y_test = train_test_split(X, y, test_size=0.2, random_state=100)\n",
    "\n",
    "from sklearn.discriminant_analysis import LinearDiscriminantAnalysis\n",
    "from sklearn.metrics import accuracy_score\n",
    "\n",
    "# Создание и обучение модели LDA\n",
    "lda = LinearDiscriminantAnalysis()\n",
    "lda.fit(X_train, y_train)\n",
    "\n",
    "# Предсказание на тестовой выборке\n",
    "y_pred = lda.predict(X_test)\n",
    "\n",
    "# Оценка качества модели на тестовой выборке\n",
    "accuracy = accuracy_score(y_test, y_pred)\n",
    "print(\"Точность на тестовой выборке:\", accuracy)\n"
   ]
  },
  {
   "cell_type": "markdown",
   "id": "92edd11c",
   "metadata": {},
   "source": [
    "# 10\n",
    "Загрузить jupyter notebook с решение на github и прислать ссылку"
   ]
  }
 ],
 "metadata": {
  "kernelspec": {
   "display_name": "Python 3 (ipykernel)",
   "language": "python",
   "name": "python3"
  },
  "language_info": {
   "codemirror_mode": {
    "name": "ipython",
    "version": 3
   },
   "file_extension": ".py",
   "mimetype": "text/x-python",
   "name": "python",
   "nbconvert_exporter": "python",
   "pygments_lexer": "ipython3",
   "version": "3.11.5"
  }
 },
 "nbformat": 4,
 "nbformat_minor": 5
}
