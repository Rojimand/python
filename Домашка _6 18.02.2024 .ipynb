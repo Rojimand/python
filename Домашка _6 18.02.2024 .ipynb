{
 "cells": [
  {
   "cell_type": "markdown",
   "id": "8471a26a",
   "metadata": {},
   "source": [
    "## Задание 1\n",
    "Печатные газеты использовали свой формат дат для каждого выпуска. Для каждой газеты из списка напишите формат указанной даты для перевода в объект datetime:\n",
    "\n",
    "The Moscow Times — Wednesday, October 2, 2002\n",
    "\n",
    "The Guardian — Friday, 11.10.13\n",
    "\n",
    "Daily News — Thursday, 18 August 1977"
   ]
  },
  {
   "cell_type": "code",
   "execution_count": 1,
   "id": "37fa0561",
   "metadata": {},
   "outputs": [],
   "source": [
    "from datetime import datetime"
   ]
  },
  {
   "cell_type": "code",
   "execution_count": 67,
   "id": "eb534a50",
   "metadata": {},
   "outputs": [],
   "source": [
    "# Даты из газет\n",
    "moscow = 'Wednesday, October 2, 2002'\n",
    "guardian = 'Friday, 11.10.13'\n",
    "daily = 'Thursday, 18 August 1977'"
   ]
  },
  {
   "cell_type": "code",
   "execution_count": 68,
   "id": "2d651639",
   "metadata": {},
   "outputs": [],
   "source": [
    "# Форматы дат\n",
    "moscow_format = '%A, %B %d, %Y'\n",
    "guardian_format = '%A, %d.%m.%y'\n",
    "daily_format = '%A, %d %B %Y'"
   ]
  },
  {
   "cell_type": "code",
   "execution_count": 71,
   "id": "9c780b0f",
   "metadata": {},
   "outputs": [
    {
     "name": "stdout",
     "output_type": "stream",
     "text": [
      "The Moscow Times:  2002-10-02 00:00:00\n",
      "The Guardian:  2013-10-11 00:00:00\n",
      "Daily News:  1977-08-18 00:00:00\n"
     ]
    }
   ],
   "source": [
    "# Перевод в объекты datetime\n",
    "moscow_dt = datetime.strptime(moscow, moscow_format)\n",
    "guardian_dt = datetime.strptime(guardian, guardian_format)\n",
    "daily_dt = datetime.strptime(daily, daily_format)\n",
    "\n",
    "print('The Moscow Times: ', moscow_dt)\n",
    "print('The Guardian: ', guardian_dt)\n",
    "print('Daily News: ', daily_dt)"
   ]
  },
  {
   "cell_type": "markdown",
   "id": "856c2981",
   "metadata": {},
   "source": [
    "## Задание 2\n",
    "Дан поток дат в формате YYYY-MM-DD, в которых встречаются некорректные значения:\n",
    "stream = [‘2018-04-02’, ‘2018-02-29’, ‘2018-19-02’]\n",
    "\n",
    "Напишите функцию, которая проверяет эти даты на корректность. То есть для каждой даты возвращает True — дата корректна или False — некорректная."
   ]
  },
  {
   "cell_type": "code",
   "execution_count": 73,
   "id": "b9cd5762",
   "metadata": {},
   "outputs": [],
   "source": [
    "stream = ['2018-04-02', '2018-02-29', '2018-19-02']"
   ]
  },
  {
   "cell_type": "code",
   "execution_count": 77,
   "id": "42ecc0e3",
   "metadata": {},
   "outputs": [],
   "source": [
    "result = []\n",
    "for date_str in stream:\n",
    "        try:\n",
    "            datetime.strptime(date_str, '%Y-%m-%d')\n",
    "            result.append(True)\n",
    "        except:\n",
    "            result.append(False)"
   ]
  },
  {
   "cell_type": "code",
   "execution_count": 78,
   "id": "7b548a84",
   "metadata": {},
   "outputs": [
    {
     "data": {
      "text/plain": [
       "[True, False, False]"
      ]
     },
     "execution_count": 78,
     "metadata": {},
     "output_type": "execute_result"
    }
   ],
   "source": [
    "result"
   ]
  },
  {
   "cell_type": "markdown",
   "id": "3f64358a",
   "metadata": {},
   "source": [
    "## Задание 3 \n",
    "Напишите функцию date_range, которая возвращает список дат за период от start_date до end_date. Даты должны вводиться в формате YYYY-MM-DD. В случае неверного формата или при start_date > end_date должен возвращаться пустой список."
   ]
  },
  {
   "cell_type": "code",
   "execution_count": 112,
   "id": "93162c35",
   "metadata": {},
   "outputs": [
    {
     "name": "stdout",
     "output_type": "stream",
     "text": [
      "['2024-02-11', '2024-02-12', '2024-02-13', '2024-02-14', '2024-02-15', '2024-02-16', '2024-02-17', '2024-02-18']\n"
     ]
    }
   ],
   "source": [
    "def date_range(start_date, end_date):\n",
    "    date_list = []\n",
    "    try:\n",
    "        start_datetime = datetime.strptime(start_date, '%Y-%m-%d')\n",
    "        end_datetime = datetime.strptime(end_date, '%Y-%m-%d')\n",
    "        \n",
    "        if start_datetime > end_datetime:\n",
    "            return date_list\n",
    "        \n",
    "        current_datetime = start_datetime\n",
    "        while current_datetime <= end_datetime:\n",
    "            date_list.append(current_datetime.strftime('%Y-%m-%d'))\n",
    "            current_datetime += timedelta(days=1)\n",
    "        \n",
    "    except:\n",
    "        pass\n",
    "    \n",
    "    return date_list\n",
    "start_date = '2024-02-11'\n",
    "end_date = '2024-02-18'\n",
    "result = date_range(start_date, end_date)\n",
    "print(result)"
   ]
  }
 ],
 "metadata": {
  "kernelspec": {
   "display_name": "Python 3 (ipykernel)",
   "language": "python",
   "name": "python3"
  },
  "language_info": {
   "codemirror_mode": {
    "name": "ipython",
    "version": 3
   },
   "file_extension": ".py",
   "mimetype": "text/x-python",
   "name": "python",
   "nbconvert_exporter": "python",
   "pygments_lexer": "ipython3",
   "version": "3.11.5"
  }
 },
 "nbformat": 4,
 "nbformat_minor": 5
}
