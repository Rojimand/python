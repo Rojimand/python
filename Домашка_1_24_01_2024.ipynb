{
  "nbformat": 4,
  "nbformat_minor": 0,
  "metadata": {
    "colab": {
      "provenance": []
    },
    "kernelspec": {
      "name": "python3",
      "display_name": "Python 3"
    },
    "language_info": {
      "name": "python"
    }
  },
  "cells": [
    {
      "cell_type": "markdown",
      "source": [
        "#Задание 1"
      ],
      "metadata": {
        "id": "bKz6CcRkztl9"
      }
    },
    {
      "cell_type": "code",
      "execution_count": null,
      "metadata": {
        "colab": {
          "base_uri": "https://localhost:8080/"
        },
        "id": "ifDW8VIRopIH",
        "outputId": "63595b75-2692-4e24-b5b8-694e1143b4e1"
      },
      "outputs": [
        {
          "output_type": "stream",
          "name": "stdout",
          "text": [
            "Фраза 1 длиннее фразы 2\n"
          ]
        }
      ],
      "source": [
        "\n",
        "phrase_1 = 'Насколько проще было бы писать программы, если бы не заказчики'\n",
        "phrase_2 = '64ddzб должно хватить для любых задач. Билл Гейтс (по легенде)'\n",
        "if len(phrase_1) > len (phrase_2):\n",
        "  print('Фраза 1 длиннее фразы 2')\n",
        "elif len(phrase_1) < len (phrase_2):\n",
        "  print('Фраза 2 длиннее фразы 1')\n",
        "else:\n",
        "  print('Фразы равной длины')"
      ]
    },
    {
      "cell_type": "markdown",
      "source": [
        "#Задание 2"
      ],
      "metadata": {
        "id": "MKyTq5rpzxbj"
      }
    },
    {
      "cell_type": "code",
      "source": [
        "\n",
        "year = 2020\n",
        "if year % 4 != 0:\n",
        "  print('Обычный год')\n",
        "else: print('Високосный год')"
      ],
      "metadata": {
        "colab": {
          "base_uri": "https://localhost:8080/"
        },
        "id": "-L8tAyQIsIKB",
        "outputId": "73a90fd7-531a-4356-dffe-78905d40e915"
      },
      "execution_count": null,
      "outputs": [
        {
          "output_type": "stream",
          "name": "stdout",
          "text": [
            "Високосный год\n"
          ]
        }
      ]
    },
    {
      "cell_type": "markdown",
      "source": [
        "#Задание 3"
      ],
      "metadata": {
        "id": "XKGxc3gfwvMZ"
      }
    },
    {
      "cell_type": "code",
      "source": [
        "den = int(input('Введите день'))\n",
        "mes = str(input('Введите месяц'))\n",
        "if 31>= den >=21 and mes == 'Март' or 20>= den >=1 and mes == 'Апрель':\n",
        "  print('Ваш знак зодиака: Овен')\n",
        "elif 30>= den >=21 and mes == 'Апрель' or 20>= den >=1 and mes == 'Май':\n",
        "  print('Ваш знак зодиака: Телец')\n",
        "elif 31>= den >=21 and mes == 'Май' or 21>= den >=1 and mes == 'Июнь':\n",
        "  print('Ваш знак зодиака: Близнецы')\n",
        "elif 30>= den >=22 and mes == 'Июнь' or 22>= den >=1 and mes == 'Июль':\n",
        "  print('Ваш знак зодиака: Рак')\n",
        "elif 31>= den >=23 and mes == 'Июль' or 22>= den >=1 and mes == 'Август':\n",
        "  print('Ваш знак зодиака: Лев')\n",
        "elif 31>= den >=23 and mes == 'Август' or 23>= den >=1 and mes == 'Сентябрь':\n",
        "  print('Ваш знак зодиака: Дева')\n",
        "elif 30>= den >=24 and mes == 'Сентябрь' or 23>= den >=1 and mes == 'Октябрь':\n",
        "  print('Ваш знак зодиака: Весы')\n",
        "elif 31>= den >=24 and mes == 'Октябрь' or 22>= den >=1 and mes == 'Ноябрь':\n",
        "  print('Ваш знак зодиака: Скорпион')\n",
        "elif 30>= den >=23 and mes == 'Ноябрь' or 21>= den >=1 and mes == 'Декабрь':\n",
        "  print('Ваш знак зодиака: Стрелец')\n",
        "elif 30>= den >=22 and mes == 'Декабрь' or 20>= den >=1 and mes == 'Январь':\n",
        "  print('Ваш знак зодиака: Козерог')\n",
        "elif 31>= den >=21 and mes == 'Январь' or 18>= den >=1 and mes == 'Февраль':\n",
        "  print('Ваш знак зодиака: Водолей')\n",
        "elif 29>= den >=21 and mes == 'Февраль' or 20>= den >=1 and mes == 'Март':\n",
        "  print('Ваш знак зодиака: Рыбы')\n",
        "\n",
        "\n"
      ],
      "metadata": {
        "colab": {
          "base_uri": "https://localhost:8080/"
        },
        "id": "JGNj45shxhi6",
        "outputId": "4270290d-bf14-4b15-8b01-a69bbf92c3f9"
      },
      "execution_count": null,
      "outputs": [
        {
          "output_type": "stream",
          "name": "stdout",
          "text": [
            "Введите день27\n",
            "Введите месяцИюль\n",
            "Ваш знак зодиака: Лев\n"
          ]
        }
      ]
    },
    {
      "cell_type": "markdown",
      "source": [
        "#Задание 4"
      ],
      "metadata": {
        "id": "kTH4VJL_olNM"
      }
    },
    {
      "cell_type": "code",
      "source": [
        "width = int(input('Введите ширину'))\n",
        "length = int(input('Введите длинну'))\n",
        "height = int(input('Введите высоту'))\n",
        "if width <= 15 and length <= 15 and height <=15:\n",
        "  print('Коробка №1')\n",
        "elif width >= 200 or length >= 200 or height >= 200:\n",
        "  print('Упаковка для лыж')\n",
        "elif 50 > width > 15 or 50 > length > 15 or 50 > height > 15:\n",
        "  print('Коробка №2')\n",
        "else:\n",
        "  print('Коробка №3')\n"
      ],
      "metadata": {
        "colab": {
          "base_uri": "https://localhost:8080/"
        },
        "id": "WjgqIZATorAU",
        "outputId": "75bcc52d-5124-4ae9-e8cb-92b0cb940ee7"
      },
      "execution_count": null,
      "outputs": [
        {
          "output_type": "stream",
          "name": "stdout",
          "text": [
            "Введите ширину15\n",
            "Введите длинну50\n",
            "Введите высоту60\n",
            "Коробка №3\n"
          ]
        }
      ]
    },
    {
      "cell_type": "markdown",
      "source": [
        "#Задание 5"
      ],
      "metadata": {
        "id": "AZhdyqREr9h6"
      }
    },
    {
      "cell_type": "code",
      "source": [
        "bilet_n = int(input('Ввдите номер билета'))\n",
        "perevod = list(map(int, str(bilet_n)))\n",
        "if sum(perevod[:3]) == sum(perevod[3:]):\n",
        "  print('Счастливый билет')\n",
        "else:\n",
        "   print('Несчастливый билет')"
      ],
      "metadata": {
        "colab": {
          "base_uri": "https://localhost:8080/"
        },
        "id": "RNd-T8A5r-kx",
        "outputId": "b90c394b-af14-4c50-c36c-a48398cbb2fc"
      },
      "execution_count": null,
      "outputs": [
        {
          "output_type": "stream",
          "name": "stdout",
          "text": [
            "Ввдите номер билета123132\n",
            "Счастливый билет\n"
          ]
        }
      ]
    },
    {
      "cell_type": "markdown",
      "source": [
        "#Задание 6"
      ],
      "metadata": {
        "id": "IY8u7Ju8zefn"
      }
    },
    {
      "cell_type": "code",
      "source": [
        "v_figur = str(input('Введите тип фигуры (Круг, Треугольник, Прямоугольник) '))\n",
        "if v_figur == 'Круг':\n",
        "  r = int(input('Введите радиус '))\n",
        "  p = 3.14*r*r\n",
        "  print('Результат: площадь круга:', p)\n",
        "elif v_figur == 'Треугольник':\n",
        "  dl1 = int(input('Введите длинну 1 '))\n",
        "  dl2 = int(input('Введите длинну 2 '))\n",
        "  dl3 = int(input('Введите длинну 3 '))\n",
        "  per_t = (dl1+dl2+dl3)/2\n",
        "  dl_storon = (per_t*(per_t-dl1)*(per_t-dl2)*(per_t-dl3))**(0.5)\n",
        "  print('Результат: площадь треугольника:', dl_storon)\n",
        "elif v_figur == 'Прямоугольник':\n",
        "  st1 = int(input('Введите сторону 1 '))\n",
        "  st2 = int(input('Введите стороно 2 '))\n",
        "  pl_prka = st1*st2\n",
        "  print('Результат: площадь прямоугольника:', pl_prka)\n",
        "else:\n",
        "  print('Не верный ввод!!!')\n"
      ],
      "metadata": {
        "colab": {
          "base_uri": "https://localhost:8080/"
        },
        "id": "9TGF3XlOzfxw",
        "outputId": "d4ff19d1-4576-4962-c4e7-bc5ee978b5c9"
      },
      "execution_count": null,
      "outputs": [
        {
          "output_type": "stream",
          "name": "stdout",
          "text": [
            "Введите тип фигуры (Круг, Треугольник, Прямоугольник) уууу\n",
            "Не верный ввод\n"
          ]
        }
      ]
    }
  ]
}