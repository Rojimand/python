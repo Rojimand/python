{
  "nbformat": 4,
  "nbformat_minor": 0,
  "metadata": {
    "colab": {
      "provenance": []
    },
    "kernelspec": {
      "name": "python3",
      "display_name": "Python 3"
    },
    "language_info": {
      "name": "python"
    }
  },
  "cells": [
    {
      "cell_type": "markdown",
      "source": [
        "#Домашнее задание к лекции \"Введение в типы данных и циклы. Часть 1\"\n",
        "#Задание 1\n",
        "Дана переменная, в которой хранится слово из латинских букв. Напишите код, который выводит на экран:\n",
        "\n",
        "среднюю букву, если число букв в слове нечетное;\n",
        "две средних буквы, если число букв четное."
      ],
      "metadata": {
        "id": "Nvue1s8hp5bd"
      }
    },
    {
      "cell_type": "code",
      "source": [
        "word = 'test'\n",
        "if len(word)%2 == 0:\n",
        "   print(word[(int(len(word)/2)-1):(int(len(word)/2)+1)])\n",
        "else:\n",
        "   print(word[int(len(word)/2)])"
      ],
      "metadata": {
        "colab": {
          "base_uri": "https://localhost:8080/"
        },
        "id": "zKT-NCDwpzy7",
        "outputId": "5eebd36c-4047-4ff0-a605-ca2db39fa734"
      },
      "execution_count": null,
      "outputs": [
        {
          "output_type": "stream",
          "name": "stdout",
          "text": [
            "es\n"
          ]
        }
      ]
    },
    {
      "cell_type": "markdown",
      "source": [
        "#Задание 2\n",
        "Напишите программу, которая последовательно запрашивает у пользователя числа (по одному за раз) и после первого нуля выводит сумму всех ранее введенных чисел."
      ],
      "metadata": {
        "id": "aIvUmAmJwS-I"
      }
    },
    {
      "cell_type": "code",
      "source": [
        "x = int(input('Введите число: '))\n",
        "summa = [x]\n",
        "while x != 0:\n",
        "    x = int(input('Введите число: '))\n",
        "    summa.append(x)\n",
        "print('Результат: ', sum(summa))"
      ],
      "metadata": {
        "colab": {
          "base_uri": "https://localhost:8080/"
        },
        "id": "H_qbyDrQx4mM",
        "outputId": "d0f421ea-1de6-412b-b266-0681e120ad25"
      },
      "execution_count": null,
      "outputs": [
        {
          "output_type": "stream",
          "name": "stdout",
          "text": [
            "Введите число: 1\n",
            "Введите число: 0\n",
            "Результат  1\n"
          ]
        }
      ]
    },
    {
      "cell_type": "markdown",
      "source": [
        "2 вариант, так как в примере если просто ввести \"0\", должна быть строка с текстом"
      ],
      "metadata": {
        "id": "g76Vb3gfrLNt"
      }
    },
    {
      "cell_type": "code",
      "source": [
        "x = int(input('Введите число: '))\n",
        "summa = [x]\n",
        "while x != 0:\n",
        "    x = int(input('Введите число: '))\n",
        "    summa.append(x)\n",
        "if sum(summa) == 0:\n",
        "  print('Результат: ')\n",
        "elif sum(summa) !=0:\n",
        "  print('Результат: ', sum(summa))"
      ],
      "metadata": {
        "colab": {
          "base_uri": "https://localhost:8080/"
        },
        "id": "aNApmV2lGE2s",
        "outputId": "319a30d3-9014-4720-d2ac-62955a1cb5ec"
      },
      "execution_count": null,
      "outputs": [
        {
          "output_type": "stream",
          "name": "stdout",
          "text": [
            "Введите число: 5\n",
            "Введите число: 6\n",
            "Введите число: 0\n",
            "Результат:  11\n"
          ]
        }
      ]
    },
    {
      "cell_type": "markdown",
      "source": [
        "#Задание 3\n",
        "Мы делаем MVP dating-сервиса, и у нас есть список парней и девушек.\n",
        "Выдвигаем гипотезу: лучшие рекомендации мы получим, если просто отсортируем имена по алфавиту и познакомим людей с одинаковыми индексами после сортировки! Но мы не будем никого знакомить, если кто-то может остаться без пары:\n",
        "\n"
      ],
      "metadata": {
        "id": "VXkN1Tri_n_c"
      }
    },
    {
      "cell_type": "code",
      "source": [
        "boys = ['Peter', 'Alex', 'John', 'Arthur', 'Richard']\n",
        "girls = ['Kate', 'Liza', 'Kira', 'Emma', 'Trisha']\n",
        "if len(boys) != len(girls):\n",
        "  print('Внимание, кто-то может остаться без пары!')\n",
        "else:\n",
        "  sb = sorted(boys)\n",
        "  sg = sorted(girls)\n",
        "  print('идеальные пары: ')\n",
        "  id = zip(sb, sg)\n",
        "  for pl in id:\n",
        "    print(pl[0], 'и', pl[1])"
      ],
      "metadata": {
        "colab": {
          "base_uri": "https://localhost:8080/"
        },
        "id": "UoZggs23xoLK",
        "outputId": "3eee7af6-8584-4153-989b-c255e9949ba8"
      },
      "execution_count": null,
      "outputs": [
        {
          "output_type": "stream",
          "name": "stdout",
          "text": [
            "идеальные пары: \n",
            "Alex и Emma\n",
            "Arthur и Kate\n",
            "John и Kira\n",
            "Peter и Liza\n",
            "Richard и Trisha\n"
          ]
        }
      ]
    },
    {
      "cell_type": "markdown",
      "source": [
        "#Задание 4\n",
        "У нас есть список, содержащий информацию о среднедневной температуре в Фаренгейтах за произвольный период по странам (структура данных в примере). Необходимо написать код, который рассчитает среднюю температуру за период в Цельсиях(!) для каждой страны."
      ],
      "metadata": {
        "id": "qvjUEzUk8S-F"
      }
    },
    {
      "cell_type": "code",
      "source": [
        "import math\n",
        "countries_temperature = [\n",
        "    ['Таиланд', [75.2, 77, 78.8, 73.4, 68, 75.2, 77]],\n",
        "    ['Германия', [57.2, 55.4, 59, 59, 53.6]],\n",
        "    ['Россия', [35.6, 37.4, 39.2, 41, 42.8, 39.2, 35.6]],\n",
        "    ['Польша', [50, 50, 53.6, 57.2, 55.4, 55.4]]\n",
        "]\n",
        "print('Средняя температура в странах:')\n",
        "for tem in countries_temperature:\n",
        " print(tem[0], '-', round((((sum(tem[1])/len(tem[1]))-32)/1.8), 1), 'C')"
      ],
      "metadata": {
        "colab": {
          "base_uri": "https://localhost:8080/"
        },
        "id": "hgZ0pFVwy0kz",
        "outputId": "9544bea0-9c50-4959-8f13-cfa478d5befd"
      },
      "execution_count": null,
      "outputs": [
        {
          "output_type": "stream",
          "name": "stdout",
          "text": [
            "Средняя температура в странах:\n",
            "Таиланд - 23.9 C\n",
            "Германия - 13.8 C\n",
            "Россия - 3.7 C\n",
            "Польша - 12.0 C\n"
          ]
        }
      ]
    },
    {
      "cell_type": "markdown",
      "source": [],
      "metadata": {
        "id": "GdMt6p4yDpXl"
      }
    }
  ]
}