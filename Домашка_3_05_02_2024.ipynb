{
  "nbformat": 4,
  "nbformat_minor": 0,
  "metadata": {
    "colab": {
      "provenance": []
    },
    "kernelspec": {
      "name": "python3",
      "display_name": "Python 3"
    },
    "language_info": {
      "name": "python"
    }
  },
  "cells": [
    {
      "cell_type": "markdown",
      "source": [
        "#Задание 1\n",
        "Дана переменная, в которой хранится словарь, содержащий гео-метки для каждого пользователя (пример структуры данных приведен ниже). Вам необходимо написать программу, которая выведет на экран множество уникальных гео-меток всех пользователей.\n",
        "\n",
        "Пример работы программы:\n",
        "\n",
        "ids = {'user1': [213, 213, 213, 15, 213],\n",
        "       'user2': [54, 54, 119, 119, 119],\n",
        "       'user3': [213, 98, 98, 35]}\n",
        "Результат: {98, 35, 15, 213, 54, 119}"
      ],
      "metadata": {
        "id": "iKv-Qm75bg8q"
      }
    },
    {
      "cell_type": "code",
      "source": [
        "ids = {'user1': [213, 213, 213, 15, 213],\n",
        "       'user2': [54, 54, 119, 119, 119],\n",
        "       'user3': [213, 98, 98, 35]}\n",
        "print('Результат: ', set(sum(ids.values(), list())))"
      ],
      "metadata": {
        "colab": {
          "base_uri": "https://localhost:8080/"
        },
        "id": "g69BVslegYce",
        "outputId": "e5032376-6eb2-4924-ac40-f21b9c958318"
      },
      "execution_count": null,
      "outputs": [
        {
          "output_type": "stream",
          "name": "stdout",
          "text": [
            "Результат:  {98, 35, 15, 213, 54, 119}\n"
          ]
        }
      ]
    },
    {
      "cell_type": "code",
      "source": [],
      "metadata": {
        "id": "hxExrc-Gg_U4"
      },
      "execution_count": null,
      "outputs": []
    },
    {
      "cell_type": "markdown",
      "source": [
        "#Задание 2\n",
        "Дана переменная, в которой хранится список поисковых запросов пользователя (пример структуры данных приведен ниже, но запросы потенциально могут быть любые). Вам необходимо написать программу, которая выведет на экран распределение количества слов в запросах в требуемом виде.\n",
        "\n",
        "Пример работы программы:\n",
        "\n",
        "queries = [\n",
        "    'смотреть сериалы онлайн',\n",
        "    'новости спорта',\n",
        "    'афиша кино',\n",
        "    'курс доллара',\n",
        "    'сериалы этим летом',\n",
        "    'курс по питону',\n",
        "    'сериалы про спорт',\n",
        "]\n",
        "Результат:\n",
        "\n",
        "Поисковых запросов, содержащих 2 слов(а): 42.86%\n",
        "Поисковых запросов, содержащих 3 слов(а): 57.14%"
      ],
      "metadata": {
        "id": "mJoPxk6P2Chn"
      }
    },
    {
      "cell_type": "code",
      "source": [
        "queries = [\n",
        "    'смотреть сериалы онлайн',\n",
        "    'новости спорта',\n",
        "    'афиша кино',\n",
        "    'курс доллара',\n",
        "    'сериалы этим летом',\n",
        "    'курс по питону',\n",
        "    'сериалы про спорт',\n",
        "]\n",
        "two = 0\n",
        "three = 0\n",
        "for i in queries:\n",
        "  if len(i.split()) > 2:\n",
        "     three += 1\n",
        "  if len(i.split()) <= 2:\n",
        "     two += 1\n",
        "print(f'Поисковых запросов, содержащих 2 слов(а): {two/(two+three):.2%} % Поисковых запросов, содержащих 3 слов(а): {three/(two+three):.2%}')"
      ],
      "metadata": {
        "colab": {
          "base_uri": "https://localhost:8080/"
        },
        "id": "avuPt4392MtV",
        "outputId": "599944cf-e349-46ee-bfd8-8b09f2a4351d"
      },
      "execution_count": null,
      "outputs": [
        {
          "output_type": "stream",
          "name": "stdout",
          "text": [
            "Поисковых запросов, содержащих 2 слов(а): 42.86% % Поисковых запросов, содержащих 3 слов(а): 57.14%\n",
            "3 4\n"
          ]
        }
      ]
    },
    {
      "cell_type": "markdown",
      "source": [
        "#Задание 3\n",
        "Дана переменная, в которой хранится информация о затратах и доходе рекламных кампаний по различным источникам. Необходимо дополнить исходную структуру показателем ROI, который рассчитаем по формуле: ((revenue / cost) - 1) * 100\n",
        "\n",
        "Пример работы программы:\n",
        "\n",
        "results = {\n",
        "    'vk': {'revenue': 103, 'cost': 98},\n",
        "    'yandex': {'revenue': 179, 'cost': 153},\n",
        "    'facebook': {'revenue': 103, 'cost': 110},\n",
        "    'adwords': {'revenue': 35, 'cost': 34},\n",
        "    'twitter': {'revenue': 11, 'cost': 24},\n",
        "}\n",
        "Результат:\n",
        "\n",
        "{'adwords': {'revenue': 35, 'cost': 34, 'ROI': 2.94},\n",
        " 'facebook': {'revenue': 103, 'cost': 110, 'ROI': -6.36},\n",
        " 'twitter': {'revenue': 11, 'cost': 24, 'ROI': -54.17},\n",
        " 'vk': {'revenue': 103, 'cost': 98, 'ROI': 5.1},\n",
        " 'yandex': {'revenue': 179, 'cost': 153, 'ROI': 16.99}}"
      ],
      "metadata": {
        "id": "W2r6GSTB7dSE"
      }
    },
    {
      "cell_type": "code",
      "source": [
        "results = {\n",
        "    'vk': {'revenue': 103, 'cost': 98},\n",
        "    'yandex': {'revenue': 179, 'cost': 153},\n",
        "    'facebook': {'revenue': 103, 'cost': 110},\n",
        "    'adwords': {'revenue': 35, 'cost': 34},\n",
        "    'twitter': {'revenue': 11, 'cost': 24},\n",
        "}\n",
        "for key, value in results.items():\n",
        "  value['ROI'] = round(((value['revenue']/value['cost'])-1)*100, 2)\n",
        "print('Результат: ', results)\n"
      ],
      "metadata": {
        "colab": {
          "base_uri": "https://localhost:8080/"
        },
        "id": "zF7Sv8CW8CSO",
        "outputId": "caa0626a-d838-4480-ad24-89d8fc629de5"
      },
      "execution_count": null,
      "outputs": [
        {
          "output_type": "stream",
          "name": "stdout",
          "text": [
            "Результат:  {'vk': {'revenue': 103, 'cost': 98, 'ROI': 5.1}, 'yandex': {'revenue': 179, 'cost': 153, 'ROI': 16.99}, 'facebook': {'revenue': 103, 'cost': 110, 'ROI': -6.36}, 'adwords': {'revenue': 35, 'cost': 34, 'ROI': 2.94}, 'twitter': {'revenue': 11, 'cost': 24, 'ROI': -54.17}}\n"
          ]
        }
      ]
    },
    {
      "cell_type": "markdown",
      "source": [
        "#Задание 4\n",
        "Дана переменная, в которой хранится статистика рекламных каналов по объемам продаж (пример структуры данных приведен ниже). Напишите программу, которая возвращает название канала с максимальным объемом продаж.\n",
        "\n",
        "Пример работы программы:\n",
        "\n",
        "stats = {'facebook': 55, 'yandex': 115, 'vk': 120, 'google': 99, 'email': 42, 'ok': 98}\n",
        "\n",
        "Результат: Максимальный объем продаж на рекламном канале: vk"
      ],
      "metadata": {
        "id": "qPaeC3rJhA5e"
      }
    },
    {
      "cell_type": "code",
      "source": [
        "stats = {\n",
        "     'facebook': 55,\n",
        "     'yandex': 115,\n",
        "     'vk': 120,\n",
        "     'google': 99,\n",
        "     'email': 42,\n",
        "     'ok': 98}\n",
        "keys = [key for key, value in stats.items() if value == max(stats.values())]\n",
        "r = ''.join(keys)\n",
        "print( f'Максимальный объём продаж на рекламном канале: {r}', max(stats.values()))"
      ],
      "metadata": {
        "colab": {
          "base_uri": "https://localhost:8080/"
        },
        "id": "t9R7-DHV4P_q",
        "outputId": "b6cc5995-6eca-4f0e-dc36-aa6a5f0c42d3"
      },
      "execution_count": null,
      "outputs": [
        {
          "output_type": "stream",
          "name": "stdout",
          "text": [
            "Максимальный объём продаж на рекламном канале: vk 120\n"
          ]
        }
      ]
    }
  ]
}