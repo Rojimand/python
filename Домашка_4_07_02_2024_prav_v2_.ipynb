{
  "nbformat": 4,
  "nbformat_minor": 0,
  "metadata": {
    "colab": {
      "provenance": []
    },
    "kernelspec": {
      "name": "python3",
      "display_name": "Python 3"
    },
    "language_info": {
      "name": "python"
    }
  },
  "cells": [
    {
      "cell_type": "markdown",
      "source": [
        "#Задание 1 Пункт 1. Пользователь по команде \"p\" может узнать владельца документа по его номеру Примеры работы:\n",
        "\n",
        "Введите команду: p\n",
        "\n",
        "Введите номер документа: 10006 Результат: Владелец документа: Аристарх Павлов\n",
        "\n",
        "Введите команду: p\n",
        "\n",
        "Введите номер документа: 12345 Результат: Документ не найден в базе\n",
        "#Пункт 2. Пользователь по команде \"s\" может по номеру документа узнать на какой полке он хранится Примеры работы:\n",
        "\n",
        "Введите команду: s\n",
        "\n",
        "Введите номер документа: 10006 Результат: Документ хранится на полке: 2\n",
        "\n",
        "Введите команду: s\n",
        "\n",
        "Введите номер документа: 12345 Результат: Документ не найден в базе\n",
        "\n",
        "#Пункт 3. Пользователь по команде \"l\" может увидеть полную информацию по всем документам Пример работы:\n",
        "\n",
        "Введите команду: l Результат:\n",
        "\n",
        "№: 2207 876234, тип: passport, владелец: Василий Гупкин, полка хранения: 1 №: 11-2, тип: invoice, владелец: Геннадий Покемонов, полка хранения: 1 №: 10006, тип: insurance, владелец: Аристарх Павлов, полка хранения: 2\n",
        "#Пункт 4. Пользователь по команде \"ads\" может добавить новую полку Примеры работы:\n",
        "\n",
        "Введите команду: ads\n",
        "\n",
        "Введите номер полки: 10 Результат: Полка добавлена. Текущий перечень полок: 1, 2, 3, 10.\n",
        "\n",
        "Введите команду: ads\n",
        "\n",
        "Введите номер полки: 1 Результат: Такая полка уже существует. Текущий перечень полок: 1, 2, 3.\n",
        "\n",
        "#Пункт 5. Пользователь по команде \"ds\" может удалить существующую полку из данных (только если она пустая) Примеры работы:\n",
        "\n",
        "Введите команду: ds\n",
        "\n",
        "Введите номер полки: 3 Результат: Полка удалена. Текущий перечень полок: 1, 2.\n",
        "\n",
        "Введите команду: ds\n",
        "\n",
        "Введите номер полки: 1 Результат: На полке есть документа, удалите их перед удалением полки. Текущий перечень полок: 1, 2, 3.\n",
        "\n",
        "Введите команду: ds\n",
        "\n",
        "Введите номер полки: 4 Результат: Такой полки не существует. Текущий перечень полок: 1, 2, 3."
      ],
      "metadata": {
        "id": "QugZstQ0L21o"
      }
    },
    {
      "cell_type": "code",
      "source": [
        "documents = [\n",
        "    {'type': 'passport', 'number': '2207 876234', 'name': 'Василий Гупкин'},\n",
        "    {'type': 'invoice', 'number': '11-2', 'name': 'Геннадий Покемонов'},\n",
        "    {'type': 'insurance', 'number': '10006', 'name': 'Аристарх Павлов'}\n",
        "]"
      ],
      "metadata": {
        "id": "lw-F6qrRo98t"
      },
      "execution_count": null,
      "outputs": []
    },
    {
      "cell_type": "code",
      "source": [
        "directories = {\n",
        "    '1': ['2207 876234', '11-2'],\n",
        "    '2': ['10006'],\n",
        "    '3': []\n",
        "}"
      ],
      "metadata": {
        "id": "phmIRwTLX6fk"
      },
      "execution_count": null,
      "outputs": []
    },
    {
      "cell_type": "code",
      "source": [
        "def name_autor():\n",
        "    \"\"\"\n",
        "    Функция получает номер документа и возвращает владельца документа\n",
        "    \"\"\"\n",
        "    n = str(input('Введите номер книги: '))\n",
        "    result = [name['name'] for name in documents if name['number']==n]\n",
        "    if result:\n",
        "        print('Владелец документа:', ''.join(result))\n",
        "    else:\n",
        "        print('Документ не найден в базе.')"
      ],
      "metadata": {
        "id": "a6LyKzssoK2J"
      },
      "execution_count": null,
      "outputs": []
    },
    {
      "cell_type": "code",
      "source": [
        "def name_polka():\n",
        "    \"\"\"\n",
        "    Функция получает номер документа и показывает на какой полке он хранится\n",
        "    \"\"\"\n",
        "    n = str(input('Введите номер документа: '))\n",
        "    result = [key for key, value in directories.items() if n in value]\n",
        "    if result:\n",
        "        print('Документ хранится на полке: ', ''.join(result))\n",
        "    else:\n",
        "        print('Документ не найден в базе.')"
      ],
      "metadata": {
        "id": "2qkvC1h5YRDE"
      },
      "execution_count": null,
      "outputs": []
    },
    {
      "cell_type": "code",
      "source": [
        "def name_docs():\n",
        "    \"\"\"\n",
        "    Функция выводит по команде l информацию по всем документам\n",
        "    \"\"\"\n",
        "    for el in documents:\n",
        "      tip = ''.join(el['type'])\n",
        "      num = ''.join(el['number'])\n",
        "      vlad = ''.join(el['name'])\n",
        "      result = ''.join([key for key, value in directories.items() if num in value])\n",
        "      print(f'№: {num}, тип: {tip}, владелец: {vlad}, полка хранения: {result}')"
      ],
      "metadata": {
        "id": "FY__4DL9Of97"
      },
      "execution_count": null,
      "outputs": []
    },
    {
      "cell_type": "code",
      "source": [
        "def name_ads():\n",
        "    \"\"\"\n",
        "    Функция добавляет новою полку\n",
        "    \"\"\"\n",
        "    inp = str(input('Введите номер полки'))\n",
        "    per_pol = ', '.join([key for key, value in directories.items()])\n",
        "    if inp in per_pol:\n",
        "       print('Такая полка уже существует')\n",
        "       print(f'Текущий перечень полок: {per_pol}')\n",
        "    else:\n",
        "       directories[inp] = []\n",
        "       per = ', '.join(directories.keys())\n",
        "       print(f'Полка добавлена. Текущий перечень полок: {per}.')"
      ],
      "metadata": {
        "id": "H0Xn0350gfY0"
      },
      "execution_count": null,
      "outputs": []
    },
    {
      "cell_type": "code",
      "source": [
        "def name_del():\n",
        "    \"\"\"\n",
        "    Функция удаляет полку если она пустая.\n",
        "    \"\"\"\n",
        "    inp = str(input('Введите номер полки'))\n",
        "    per = [''.join(value) for key, value in directories.items() if inp in key]\n",
        "    per_pol = ', '.join([key for key, value in directories.items()])\n",
        "    if inp not in per_pol:\n",
        "      print(f'Такой полки не существует. Текущий перечень полок: {per_pol}')\n",
        "    else:\n",
        "      if len(''.join(per)) < 1:\n",
        "        del directories[inp]\n",
        "        per_pol_del = ', '.join([key for key, value in directories.items()])\n",
        "        print(f'Полка удалена. Текущий перечень полок: {per_pol_del}')\n",
        "      else:\n",
        "        print(f'На полке есть документы, удалите их перед удалением полки. Текущий перечень полок: {per_pol}')"
      ],
      "metadata": {
        "id": "tYDd21f0pwWu"
      },
      "execution_count": null,
      "outputs": []
    },
    {
      "cell_type": "code",
      "source": [
        "\n",
        "def document():\n",
        "    while True:\n",
        "       command = input('Введите команду: ')\n",
        "       if command =='q':\n",
        "          break\n",
        "       elif command == 'p':\n",
        "            name_autor()\n",
        "       elif command =='s':\n",
        "            name_polka()\n",
        "       elif command == 'l':\n",
        "            name_docs()\n",
        "       elif command == 'ads':\n",
        "            name_ads()\n",
        "       elif command == 'ds':\n",
        "            name_del()\n",
        "       else:\n",
        "          print('Не верная команда!')\n",
        "    print('Вы вышли из программы.')\n",
        "document()"
      ],
      "metadata": {
        "colab": {
          "base_uri": "https://localhost:8080/",
          "height": 1000
        },
        "id": "p1cgbnhzYegG",
        "outputId": "26bbfc5a-050b-4623-d096-a72f064102fa"
      },
      "execution_count": null,
      "outputs": [
        {
          "output_type": "stream",
          "name": "stdout",
          "text": [
            "Введите команду: p\n",
            "Введите номер книги: 10006\n",
            "Владелец документа: Аристарх Павлов\n",
            "Введите команду: s\n",
            "Введите номер документа: 10006\n",
            "Документ хранится на полке:  2\n",
            "Введите команду: l\n",
            "№: 2207 876234, тип: passport, владелец: Василий Гупкин, полка хранения: 1\n",
            "№: 11-2, тип: invoice, владелец: Геннадий Покемонов, полка хранения: 1\n",
            "№: 10006, тип: insurance, владелец: Аристарх Павлов, полка хранения: 2\n",
            "Введите команду: ads\n",
            "Введите номер полки3\n",
            "Такая полка уже существует\n",
            "Текущий перечень полок: 1, 2, 3, 4, 5, 7\n",
            "Введите команду: ads\n",
            "Введите номер полки44\n",
            "Полка добавлена. Текущий перечень полок: 1, 2, 3, 4, 5, 7, 44.\n",
            "Введите команду: ds\n",
            "Введите номер полки1\n",
            "На полке есть документы, удалите их перед удалением полки. Текущий перечень полок: 1, 2, 3, 4, 5, 7, 44\n",
            "Введите команду: 4\n",
            "Не верная команда!\n",
            "Введите команду: ds\n",
            "Введите номер полки4\n",
            "Полка удалена. Текущий перечень полок: 1, 2, 3, 5, 7, 44\n"
          ]
        },
        {
          "output_type": "error",
          "ename": "KeyboardInterrupt",
          "evalue": "Interrupted by user",
          "traceback": [
            "\u001b[0;31m---------------------------------------------------------------------------\u001b[0m",
            "\u001b[0;31mKeyboardInterrupt\u001b[0m                         Traceback (most recent call last)",
            "\u001b[0;32m<ipython-input-21-1cd54c2903a9>\u001b[0m in \u001b[0;36m<cell line: 19>\u001b[0;34m()\u001b[0m\n\u001b[1;32m     17\u001b[0m           \u001b[0mprint\u001b[0m\u001b[0;34m(\u001b[0m\u001b[0;34m'Не верная команда!'\u001b[0m\u001b[0;34m)\u001b[0m\u001b[0;34m\u001b[0m\u001b[0;34m\u001b[0m\u001b[0m\n\u001b[1;32m     18\u001b[0m     \u001b[0mprint\u001b[0m\u001b[0;34m(\u001b[0m\u001b[0;34m'Вы вышли из программы.'\u001b[0m\u001b[0;34m)\u001b[0m\u001b[0;34m\u001b[0m\u001b[0;34m\u001b[0m\u001b[0m\n\u001b[0;32m---> 19\u001b[0;31m \u001b[0mdocument\u001b[0m\u001b[0;34m(\u001b[0m\u001b[0;34m)\u001b[0m\u001b[0;34m\u001b[0m\u001b[0;34m\u001b[0m\u001b[0m\n\u001b[0m",
            "\u001b[0;32m<ipython-input-21-1cd54c2903a9>\u001b[0m in \u001b[0;36mdocument\u001b[0;34m()\u001b[0m\n\u001b[1;32m      1\u001b[0m \u001b[0;32mdef\u001b[0m \u001b[0mdocument\u001b[0m\u001b[0;34m(\u001b[0m\u001b[0;34m)\u001b[0m\u001b[0;34m:\u001b[0m\u001b[0;34m\u001b[0m\u001b[0;34m\u001b[0m\u001b[0m\n\u001b[1;32m      2\u001b[0m     \u001b[0;32mwhile\u001b[0m \u001b[0;32mTrue\u001b[0m\u001b[0;34m:\u001b[0m\u001b[0;34m\u001b[0m\u001b[0;34m\u001b[0m\u001b[0m\n\u001b[0;32m----> 3\u001b[0;31m        \u001b[0mcommand\u001b[0m \u001b[0;34m=\u001b[0m \u001b[0minput\u001b[0m\u001b[0;34m(\u001b[0m\u001b[0;34m'Введите команду: '\u001b[0m\u001b[0;34m)\u001b[0m\u001b[0;34m\u001b[0m\u001b[0;34m\u001b[0m\u001b[0m\n\u001b[0m\u001b[1;32m      4\u001b[0m        \u001b[0;32mif\u001b[0m \u001b[0mcommand\u001b[0m \u001b[0;34m==\u001b[0m\u001b[0;34m'q'\u001b[0m\u001b[0;34m:\u001b[0m\u001b[0;34m\u001b[0m\u001b[0;34m\u001b[0m\u001b[0m\n\u001b[1;32m      5\u001b[0m           \u001b[0;32mbreak\u001b[0m\u001b[0;34m\u001b[0m\u001b[0;34m\u001b[0m\u001b[0m\n",
            "\u001b[0;32m/usr/local/lib/python3.10/dist-packages/ipykernel/kernelbase.py\u001b[0m in \u001b[0;36mraw_input\u001b[0;34m(self, prompt)\u001b[0m\n\u001b[1;32m    849\u001b[0m                 \u001b[0;34m\"raw_input was called, but this frontend does not support input requests.\"\u001b[0m\u001b[0;34m\u001b[0m\u001b[0;34m\u001b[0m\u001b[0m\n\u001b[1;32m    850\u001b[0m             )\n\u001b[0;32m--> 851\u001b[0;31m         return self._input_request(str(prompt),\n\u001b[0m\u001b[1;32m    852\u001b[0m             \u001b[0mself\u001b[0m\u001b[0;34m.\u001b[0m\u001b[0m_parent_ident\u001b[0m\u001b[0;34m,\u001b[0m\u001b[0;34m\u001b[0m\u001b[0;34m\u001b[0m\u001b[0m\n\u001b[1;32m    853\u001b[0m             \u001b[0mself\u001b[0m\u001b[0;34m.\u001b[0m\u001b[0m_parent_header\u001b[0m\u001b[0;34m,\u001b[0m\u001b[0;34m\u001b[0m\u001b[0;34m\u001b[0m\u001b[0m\n",
            "\u001b[0;32m/usr/local/lib/python3.10/dist-packages/ipykernel/kernelbase.py\u001b[0m in \u001b[0;36m_input_request\u001b[0;34m(self, prompt, ident, parent, password)\u001b[0m\n\u001b[1;32m    893\u001b[0m             \u001b[0;32mexcept\u001b[0m \u001b[0mKeyboardInterrupt\u001b[0m\u001b[0;34m:\u001b[0m\u001b[0;34m\u001b[0m\u001b[0;34m\u001b[0m\u001b[0m\n\u001b[1;32m    894\u001b[0m                 \u001b[0;31m# re-raise KeyboardInterrupt, to truncate traceback\u001b[0m\u001b[0;34m\u001b[0m\u001b[0;34m\u001b[0m\u001b[0m\n\u001b[0;32m--> 895\u001b[0;31m                 \u001b[0;32mraise\u001b[0m \u001b[0mKeyboardInterrupt\u001b[0m\u001b[0;34m(\u001b[0m\u001b[0;34m\"Interrupted by user\"\u001b[0m\u001b[0;34m)\u001b[0m \u001b[0;32mfrom\u001b[0m \u001b[0;32mNone\u001b[0m\u001b[0;34m\u001b[0m\u001b[0;34m\u001b[0m\u001b[0m\n\u001b[0m\u001b[1;32m    896\u001b[0m             \u001b[0;32mexcept\u001b[0m \u001b[0mException\u001b[0m \u001b[0;32mas\u001b[0m \u001b[0me\u001b[0m\u001b[0;34m:\u001b[0m\u001b[0;34m\u001b[0m\u001b[0;34m\u001b[0m\u001b[0m\n\u001b[1;32m    897\u001b[0m                 \u001b[0mself\u001b[0m\u001b[0;34m.\u001b[0m\u001b[0mlog\u001b[0m\u001b[0;34m.\u001b[0m\u001b[0mwarning\u001b[0m\u001b[0;34m(\u001b[0m\u001b[0;34m\"Invalid Message:\"\u001b[0m\u001b[0;34m,\u001b[0m \u001b[0mexc_info\u001b[0m\u001b[0;34m=\u001b[0m\u001b[0;32mTrue\u001b[0m\u001b[0;34m)\u001b[0m\u001b[0;34m\u001b[0m\u001b[0;34m\u001b[0m\u001b[0m\n",
            "\u001b[0;31mKeyboardInterrupt\u001b[0m: Interrupted by user"
          ]
        }
      ]
    }
  ]
}