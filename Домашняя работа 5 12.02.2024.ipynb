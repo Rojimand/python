{
 "cells": [
  {
   "cell_type": "code",
   "execution_count": 1,
   "id": "f2a3f29d",
   "metadata": {},
   "outputs": [],
   "source": [
    "f = open('purchase_log.txt', encoding = 'utf-8')"
   ]
  },
  {
   "cell_type": "code",
   "execution_count": 2,
   "id": "f1782281",
   "metadata": {},
   "outputs": [
    {
     "data": {
      "text/plain": [
       "'{\"user_id\": \"user_id\", \"category\": \"category\"}\\n'"
      ]
     },
     "execution_count": 2,
     "metadata": {},
     "output_type": "execute_result"
    }
   ],
   "source": [
    "f.readline()"
   ]
  },
  {
   "cell_type": "code",
   "execution_count": 3,
   "id": "ae4591bb",
   "metadata": {},
   "outputs": [],
   "source": [
    "import json"
   ]
  },
  {
   "cell_type": "code",
   "execution_count": 187,
   "id": "535c023e",
   "metadata": {},
   "outputs": [
    {
     "name": "stderr",
     "output_type": "stream",
     "text": [
      "IOPub data rate exceeded.\n",
      "The notebook server will temporarily stop sending output\n",
      "to the client in order to avoid crashing it.\n",
      "To change this limit, set the config variable\n",
      "`--NotebookApp.iopub_data_rate_limit`.\n",
      "\n",
      "Current values:\n",
      "NotebookApp.iopub_data_rate_limit=1000000.0 (bytes/sec)\n",
      "NotebookApp.rate_limit_window=3.0 (secs)\n",
      "\n"
     ]
    }
   ],
   "source": [
    "i = 0\n",
    "purchases = dict()\n",
    "with open('purchase_log.txt', encoding = 'utf-8') as f:\n",
    "    for line in f:\n",
    "        line = line.strip()\n",
    "        purchase = json.loads(line)\n",
    "        purchases[purchase['user_id']] = purchase['category']   \n",
    "#     f.close()  \n",
    "#         i +=1\n",
    "#         if i > 10:\n",
    "#             break\n",
    "            \n",
    "    print(purchases)"
   ]
  },
  {
   "cell_type": "code",
   "execution_count": 188,
   "id": "92f214f9",
   "metadata": {},
   "outputs": [],
   "source": [
    "with open('visit_log.csv', encoding = 'utf-8') as f_visit:\n",
    "    with open('funnel.csv', \"w\") as f_write:\n",
    "            \n",
    "        for line in f_visit:\n",
    "            line = line.strip().split(',')\n",
    "            user_id = line[0] \n",
    "            \n",
    "            if user_id in purchases.keys():\n",
    "                line.append(purchases[user_id])\n",
    "                line = ','.join(line)\n",
    "                f_write.write(f'{line}\\n')\n",
    "    f_write.close()\n",
    "f_visit.close()"
   ]
  },
  {
   "cell_type": "code",
   "execution_count": 189,
   "id": "178a6696",
   "metadata": {},
   "outputs": [],
   "source": [
    "f2 = open('funnel.csv')"
   ]
  },
  {
   "cell_type": "code",
   "execution_count": 301,
   "id": "652c573a",
   "metadata": {},
   "outputs": [
    {
     "data": {
      "text/plain": [
       "'ddf1af2d3f,other,Бытовая техника\\n'"
      ]
     },
     "execution_count": 301,
     "metadata": {},
     "output_type": "execute_result"
    }
   ],
   "source": [
    "f2.readline()"
   ]
  },
  {
   "cell_type": "code",
   "execution_count": null,
   "id": "80d1d66c",
   "metadata": {},
   "outputs": [],
   "source": []
  }
 ],
 "metadata": {
  "kernelspec": {
   "display_name": "Python 3 (ipykernel)",
   "language": "python",
   "name": "python3"
  },
  "language_info": {
   "codemirror_mode": {
    "name": "ipython",
    "version": 3
   },
   "file_extension": ".py",
   "mimetype": "text/x-python",
   "name": "python",
   "nbconvert_exporter": "python",
   "pygments_lexer": "ipython3",
   "version": "3.11.5"
  }
 },
 "nbformat": 4,
 "nbformat_minor": 5
}
